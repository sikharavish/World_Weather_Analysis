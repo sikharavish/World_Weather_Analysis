{
 "cells": [
  {
   "cell_type": "markdown",
   "metadata": {},
   "source": [
    "## Deliverable 3. Create a Travel Itinerary Map."
   ]
  },
  {
   "cell_type": "code",
   "execution_count": 1,
   "metadata": {},
   "outputs": [],
   "source": [
    "# Dependencies and Setup\n",
    "import pandas as pd\n",
    "import requests\n",
    "import gmaps\n",
    "import gmaps.datasets\n",
    "\n",
    "# Import API key\n",
    "from config import g_key\n",
    "\n",
    "# Configure gmaps\n",
    "gmaps.configure(api_key=g_key)"
   ]
  },
  {
   "cell_type": "code",
   "execution_count": 2,
   "metadata": {},
   "outputs": [
    {
     "data": {
      "text/html": [
       "<div>\n",
       "<style scoped>\n",
       "    .dataframe tbody tr th:only-of-type {\n",
       "        vertical-align: middle;\n",
       "    }\n",
       "\n",
       "    .dataframe tbody tr th {\n",
       "        vertical-align: top;\n",
       "    }\n",
       "\n",
       "    .dataframe thead th {\n",
       "        text-align: right;\n",
       "    }\n",
       "</style>\n",
       "<table border=\"1\" class=\"dataframe\">\n",
       "  <thead>\n",
       "    <tr style=\"text-align: right;\">\n",
       "      <th></th>\n",
       "      <th>City_ID</th>\n",
       "      <th>City</th>\n",
       "      <th>Country</th>\n",
       "      <th>Max Temp</th>\n",
       "      <th>Current Description</th>\n",
       "      <th>Lat</th>\n",
       "      <th>Lng</th>\n",
       "      <th>Hotel Name</th>\n",
       "    </tr>\n",
       "  </thead>\n",
       "  <tbody>\n",
       "    <tr>\n",
       "      <th>0</th>\n",
       "      <td>0</td>\n",
       "      <td>Avarua</td>\n",
       "      <td>CK</td>\n",
       "      <td>77.00</td>\n",
       "      <td>clear sky</td>\n",
       "      <td>-21.21</td>\n",
       "      <td>-159.78</td>\n",
       "      <td>Paradise Inn</td>\n",
       "    </tr>\n",
       "    <tr>\n",
       "      <th>1</th>\n",
       "      <td>2</td>\n",
       "      <td>Butaritari</td>\n",
       "      <td>KI</td>\n",
       "      <td>83.19</td>\n",
       "      <td>overcast clouds</td>\n",
       "      <td>3.07</td>\n",
       "      <td>172.79</td>\n",
       "      <td>Isles Sunset Lodge</td>\n",
       "    </tr>\n",
       "    <tr>\n",
       "      <th>2</th>\n",
       "      <td>11</td>\n",
       "      <td>Kapaa</td>\n",
       "      <td>US</td>\n",
       "      <td>86.00</td>\n",
       "      <td>scattered clouds</td>\n",
       "      <td>22.08</td>\n",
       "      <td>-159.32</td>\n",
       "      <td>Sheraton Kauai Resort at Coconut Beach</td>\n",
       "    </tr>\n",
       "    <tr>\n",
       "      <th>3</th>\n",
       "      <td>13</td>\n",
       "      <td>Nouadhibou</td>\n",
       "      <td>MR</td>\n",
       "      <td>73.40</td>\n",
       "      <td>broken clouds</td>\n",
       "      <td>20.93</td>\n",
       "      <td>-17.03</td>\n",
       "      <td>El Medina</td>\n",
       "    </tr>\n",
       "    <tr>\n",
       "      <th>4</th>\n",
       "      <td>14</td>\n",
       "      <td>Auki</td>\n",
       "      <td>SB</td>\n",
       "      <td>83.95</td>\n",
       "      <td>moderate rain</td>\n",
       "      <td>-8.77</td>\n",
       "      <td>160.70</td>\n",
       "      <td>Auki Motel</td>\n",
       "    </tr>\n",
       "    <tr>\n",
       "      <th>5</th>\n",
       "      <td>16</td>\n",
       "      <td>Sola</td>\n",
       "      <td>VU</td>\n",
       "      <td>86.00</td>\n",
       "      <td>broken clouds</td>\n",
       "      <td>-13.88</td>\n",
       "      <td>167.55</td>\n",
       "      <td>Leumerus Bungalows</td>\n",
       "    </tr>\n",
       "    <tr>\n",
       "      <th>6</th>\n",
       "      <td>25</td>\n",
       "      <td>Mareeba</td>\n",
       "      <td>AU</td>\n",
       "      <td>82.40</td>\n",
       "      <td>few clouds</td>\n",
       "      <td>-17.00</td>\n",
       "      <td>145.43</td>\n",
       "      <td>Trinity Plains Tourist Park</td>\n",
       "    </tr>\n",
       "    <tr>\n",
       "      <th>7</th>\n",
       "      <td>26</td>\n",
       "      <td>Eydhafushi</td>\n",
       "      <td>MV</td>\n",
       "      <td>83.71</td>\n",
       "      <td>clear sky</td>\n",
       "      <td>5.10</td>\n",
       "      <td>73.07</td>\n",
       "      <td>Soneva Fushi</td>\n",
       "    </tr>\n",
       "    <tr>\n",
       "      <th>8</th>\n",
       "      <td>27</td>\n",
       "      <td>Dafeng</td>\n",
       "      <td>CN</td>\n",
       "      <td>84.13</td>\n",
       "      <td>clear sky</td>\n",
       "      <td>23.45</td>\n",
       "      <td>108.59</td>\n",
       "      <td>Shenglong Hotel</td>\n",
       "    </tr>\n",
       "    <tr>\n",
       "      <th>9</th>\n",
       "      <td>33</td>\n",
       "      <td>Kalmunai</td>\n",
       "      <td>LK</td>\n",
       "      <td>78.55</td>\n",
       "      <td>clear sky</td>\n",
       "      <td>7.42</td>\n",
       "      <td>81.82</td>\n",
       "      <td>VS Villa</td>\n",
       "    </tr>\n",
       "  </tbody>\n",
       "</table>\n",
       "</div>"
      ],
      "text/plain": [
       "   City_ID        City Country  Max Temp Current Description    Lat     Lng  \\\n",
       "0        0      Avarua      CK     77.00           clear sky -21.21 -159.78   \n",
       "1        2  Butaritari      KI     83.19     overcast clouds   3.07  172.79   \n",
       "2       11       Kapaa      US     86.00    scattered clouds  22.08 -159.32   \n",
       "3       13  Nouadhibou      MR     73.40       broken clouds  20.93  -17.03   \n",
       "4       14        Auki      SB     83.95       moderate rain  -8.77  160.70   \n",
       "5       16        Sola      VU     86.00       broken clouds -13.88  167.55   \n",
       "6       25     Mareeba      AU     82.40          few clouds -17.00  145.43   \n",
       "7       26  Eydhafushi      MV     83.71           clear sky   5.10   73.07   \n",
       "8       27      Dafeng      CN     84.13           clear sky  23.45  108.59   \n",
       "9       33    Kalmunai      LK     78.55           clear sky   7.42   81.82   \n",
       "\n",
       "                               Hotel Name  \n",
       "0                            Paradise Inn  \n",
       "1                      Isles Sunset Lodge  \n",
       "2  Sheraton Kauai Resort at Coconut Beach  \n",
       "3                               El Medina  \n",
       "4                              Auki Motel  \n",
       "5                      Leumerus Bungalows  \n",
       "6             Trinity Plains Tourist Park  \n",
       "7                            Soneva Fushi  \n",
       "8                         Shenglong Hotel  \n",
       "9                                VS Villa  "
      ]
     },
     "execution_count": 2,
     "metadata": {},
     "output_type": "execute_result"
    }
   ],
   "source": [
    "# 1. Read the WeatherPy_vacation.csv into a DataFrame.\n",
    "vacation_df = pd.read_csv(\"Vacation_Search/WeatherPy_vacation.csv\")\n",
    "vacation_df.head(10)"
   ]
  },
  {
   "cell_type": "code",
   "execution_count": 3,
   "metadata": {},
   "outputs": [],
   "source": [
    "# 2. Using the template add the city name, the country code, the weather description and maximum temperature for the city.\n",
    "info_box_template = \"\"\"\n",
    "<dl>\n",
    "<dt>Hotel Name</dt><dd>{Hotel Name}</dd>\n",
    "<dt>City</dt><dd>{City}</dd>\n",
    "<dt>Country</dt><dd>{Country}</dd>\n",
    "<dt>Current Weather</dt><dd>{Current Description}</dd>\n",
    "<dt>Max Temp</dt><dd>{Max Temp} °F</dd>\n",
    "</dl>\n",
    "\"\"\"\n",
    "\n",
    "# 3a. Get the data from each row and add it to the formatting template and store the data in a list.\n",
    "hotel_info = [info_box_template.format(**row) for index, row in vacation_df.iterrows()]\n",
    "\n",
    "# 3b. Get the latitude and longitude from each row and store in a new DataFrame.\n",
    "locations = vacation_df[[\"Lat\", \"Lng\"]]\n",
    "max_temp = vacation_df[\"Max Temp\"]\n",
    "Current_Description = vacation_df[\"Current Description\"]"
   ]
  },
  {
   "cell_type": "code",
   "execution_count": 4,
   "metadata": {},
   "outputs": [
    {
     "data": {
      "application/vnd.jupyter.widget-view+json": {
       "model_id": "41cd8666a61c4476bb4ca90cf3266462",
       "version_major": 2,
       "version_minor": 0
      },
      "text/plain": [
       "Figure(layout=FigureLayout(height='420px'))"
      ]
     },
     "metadata": {},
     "output_type": "display_data"
    }
   ],
   "source": [
    "# 4a. Add a marker layer for each city to the map.\n",
    "fig = gmaps.figure(center=(30.0, 31.0), zoom_level=1.5)\n",
    "heat_layer = gmaps.heatmap_layer(locations, weights=max_temp, dissipating=False, max_intensity=300, point_radius=4)\n",
    "marker_layer = gmaps.marker_layer(locations, info_box_content=hotel_info)\n",
    "fig.add_layer(heat_layer)\n",
    "fig.add_layer(marker_layer)\n",
    "# 4b. Display the figure\n",
    "fig\n"
   ]
  },
  {
   "cell_type": "code",
   "execution_count": 5,
   "metadata": {},
   "outputs": [
    {
     "data": {
      "text/plain": [
       "City_ID                  int64\n",
       "City                    object\n",
       "Country                 object\n",
       "Max Temp               float64\n",
       "Current Description     object\n",
       "Lat                    float64\n",
       "Lng                    float64\n",
       "Hotel Name              object\n",
       "dtype: object"
      ]
     },
     "execution_count": 5,
     "metadata": {},
     "output_type": "execute_result"
    }
   ],
   "source": [
    "# From the map above pick 4 cities and create a vacation itinerary route to travel between the four cities. \n",
    "# 5. Create DataFrames for each city by filtering the 'vacation_df' using the loc method. \n",
    "# Hint: The starting and ending city should be the same city.\n",
    "\n",
    "vacation_start= vacation_df.loc[(vacation_df[\"Hotel Name\"] == \"The Clift Royal Sonesta Hotel\") & (vacation_df[\"City\"] == \"San Francisco\")]\n",
    "vacation_end = vacation_df.loc[(vacation_df[\"Hotel Name\"] == \"The Clift Royal Sonesta Hotel\") & (vacation_df[\"City\"] == \"San Francisco\")]\n",
    "vacation_stop1 = vacation_df.loc[(vacation_df[\"Hotel Name\"] == \"The Westin San Jose\") & (vacation_df[\"City\"] == \"San Jose\")]\n",
    "vacation_stop2 = vacation_df.loc[(vacation_df[\"Hotel Name\"] == \"Lovers Point Inn\") & (vacation_df[\"City\"] == \"Pacific Grove\")] \n",
    "vacation_stop3 = vacation_df.loc[(vacation_df[\"Hotel Name\"] == \"Kimpton Canary Hotel\") & (vacation_df[\"City\"] == \"Santa Barbara\")]\n",
    "vacation_start.dtypes                                "
   ]
  },
  {
   "cell_type": "code",
   "execution_count": 6,
   "metadata": {},
   "outputs": [],
   "source": [
    "import numpy as np"
   ]
  },
  {
   "cell_type": "code",
   "execution_count": 7,
   "metadata": {},
   "outputs": [],
   "source": [
    "# 6. Get the latitude-longitude pairs as tuples from each city DataFrame using the to_numpy function and list indexing.\n",
    "\n",
    "start = vacation_start[['Lat', 'Lng']]\n",
    "start_tuples = [tuple(x) for x in start.to_numpy()]\n",
    "end = vacation_end[['Lat', 'Lng']]\n",
    "end_tuples = [tuple(x) for x in end.to_numpy()]\n",
    "\n",
    "stop1 = vacation_stop1[['Lat', 'Lng']]\n",
    "stop1_tuples = [tuple(x) for x in stop1.to_numpy()]\n",
    "\n",
    "stop2 = vacation_stop2[['Lat', 'Lng']]\n",
    "stop2_tuples = [tuple(x) for x in stop2.to_numpy()]\n",
    "\n",
    "stop3 = vacation_stop3[['Lat', 'Lng']]\n",
    "stop3_tuples = [tuple(x) for x in stop3.to_numpy()]"
   ]
  },
  {
   "cell_type": "code",
   "execution_count": 8,
   "metadata": {},
   "outputs": [
    {
     "data": {
      "text/plain": [
       "2"
      ]
     },
     "execution_count": 8,
     "metadata": {},
     "output_type": "execute_result"
    }
   ],
   "source": [
    "len(start_tuples[0])"
   ]
  },
  {
   "cell_type": "code",
   "execution_count": null,
   "metadata": {},
   "outputs": [],
   "source": []
  },
  {
   "cell_type": "code",
   "execution_count": 9,
   "metadata": {
    "scrolled": true
   },
   "outputs": [
    {
     "data": {
      "application/vnd.jupyter.widget-view+json": {
       "model_id": "00baa4d594ca4d53b8b57716df0125e6",
       "version_major": 2,
       "version_minor": 0
      },
      "text/plain": [
       "Figure(layout=FigureLayout(height='420px'))"
      ]
     },
     "metadata": {},
     "output_type": "display_data"
    }
   ],
   "source": [
    "# 7. Create a direction layer map using the start and end latitude-longitude pairs, and stop1, stop2, and stop3 as the waypoints. The travel_mode should be \"DRIVING\", \"BICYCLING\", or \"WALKING\".\n",
    "\n",
    "# start = (37.77, -122.42)\n",
    "#end = (37.77, -122.42)\n",
    "# waypoints = [(37.34, -121.89), (36.62, -121.92), (34.42, -119.7)] , \n",
    "waypoints = [stop1_tuples[0], stop2_tuples[0], stop3_tuples[0]]\n",
    "fig = gmaps.figure()\n",
    "directions = gmaps.directions_layer(start_tuples[0], end_tuples[0], waypoints = waypoints, travel_mode=\"DRIVING\")\n",
    "fig.add_layer(directions)\n",
    "fig"
   ]
  },
  {
   "cell_type": "code",
   "execution_count": 10,
   "metadata": {},
   "outputs": [
    {
     "data": {
      "text/html": [
       "<div>\n",
       "<style scoped>\n",
       "    .dataframe tbody tr th:only-of-type {\n",
       "        vertical-align: middle;\n",
       "    }\n",
       "\n",
       "    .dataframe tbody tr th {\n",
       "        vertical-align: top;\n",
       "    }\n",
       "\n",
       "    .dataframe thead th {\n",
       "        text-align: right;\n",
       "    }\n",
       "</style>\n",
       "<table border=\"1\" class=\"dataframe\">\n",
       "  <thead>\n",
       "    <tr style=\"text-align: right;\">\n",
       "      <th></th>\n",
       "      <th>City_ID</th>\n",
       "      <th>City</th>\n",
       "      <th>Country</th>\n",
       "      <th>Max Temp</th>\n",
       "      <th>Current Description</th>\n",
       "      <th>Lat</th>\n",
       "      <th>Lng</th>\n",
       "      <th>Hotel Name</th>\n",
       "    </tr>\n",
       "  </thead>\n",
       "  <tbody>\n",
       "    <tr>\n",
       "      <th>0</th>\n",
       "      <td>372</td>\n",
       "      <td>Santa Barbara</td>\n",
       "      <td>US</td>\n",
       "      <td>84.0</td>\n",
       "      <td>haze</td>\n",
       "      <td>34.42</td>\n",
       "      <td>-119.70</td>\n",
       "      <td>Kimpton Canary Hotel</td>\n",
       "    </tr>\n",
       "    <tr>\n",
       "      <th>1</th>\n",
       "      <td>371</td>\n",
       "      <td>Pacific Grove</td>\n",
       "      <td>US</td>\n",
       "      <td>75.0</td>\n",
       "      <td>clear sky</td>\n",
       "      <td>36.62</td>\n",
       "      <td>-121.92</td>\n",
       "      <td>Lovers Point Inn</td>\n",
       "    </tr>\n",
       "    <tr>\n",
       "      <th>2</th>\n",
       "      <td>273</td>\n",
       "      <td>San Jose</td>\n",
       "      <td>US</td>\n",
       "      <td>84.2</td>\n",
       "      <td>smoke</td>\n",
       "      <td>37.34</td>\n",
       "      <td>-121.89</td>\n",
       "      <td>The Westin San Jose</td>\n",
       "    </tr>\n",
       "    <tr>\n",
       "      <th>3</th>\n",
       "      <td>677</td>\n",
       "      <td>San Francisco</td>\n",
       "      <td>US</td>\n",
       "      <td>77.0</td>\n",
       "      <td>smoke</td>\n",
       "      <td>37.77</td>\n",
       "      <td>-122.42</td>\n",
       "      <td>The Clift Royal Sonesta Hotel</td>\n",
       "    </tr>\n",
       "  </tbody>\n",
       "</table>\n",
       "</div>"
      ],
      "text/plain": [
       "   City_ID           City Country  Max Temp Current Description    Lat  \\\n",
       "0      372  Santa Barbara      US      84.0                haze  34.42   \n",
       "1      371  Pacific Grove      US      75.0           clear sky  36.62   \n",
       "2      273       San Jose      US      84.2               smoke  37.34   \n",
       "3      677  San Francisco      US      77.0               smoke  37.77   \n",
       "\n",
       "      Lng                     Hotel Name  \n",
       "0 -119.70           Kimpton Canary Hotel  \n",
       "1 -121.92               Lovers Point Inn  \n",
       "2 -121.89            The Westin San Jose  \n",
       "3 -122.42  The Clift Royal Sonesta Hotel  "
      ]
     },
     "execution_count": 10,
     "metadata": {},
     "output_type": "execute_result"
    }
   ],
   "source": [
    "# 8. To create a marker layer map between the four cities.\n",
    "#  Combine the four city DataFrames into one DataFrame using the concat() function.\n",
    "itinerary_df = pd.concat([vacation_stop3, vacation_stop2, vacation_stop1, vacation_start],ignore_index=True)\n",
    "itinerary_df"
   ]
  },
  {
   "cell_type": "code",
   "execution_count": 11,
   "metadata": {},
   "outputs": [],
   "source": [
    "# 9 Using the template add city name, the country code, the weather description and maximum temperature for the city. \n",
    "info_box_template = \"\"\"\n",
    "<dl>\n",
    "<dt>Hotel Name</dt><dd>{Hotel Name}</dd>\n",
    "<dt>City</dt><dd>{City}</dd>\n",
    "<dt>Country</dt><dd>{Country}</dd>\n",
    "<dt>Current Weather</dt><dd>{Current Description}</dd>\n",
    "<dt>Max Temp</dt><dd>{Max Temp} °F</dd>\n",
    "</dl>\n",
    "\"\"\"\n",
    "\n",
    "# 10a Get the data from each row and add it to the formatting template and store the data in a list.\n",
    "hotel_info = [info_box_template.format(**row) for index, row in itinerary_df.iterrows()]\n",
    "\n",
    "# 10b. Get the latitude and longitude from each row and store in a new DataFrame.\n",
    "locations = itinerary_df[[\"Lat\", \"Lng\"]]\n",
    "max_temp = itinerary_df[\"Max Temp\"]\n",
    "Current_Description = itinerary_df[\"Current Description\"]"
   ]
  },
  {
   "cell_type": "code",
   "execution_count": 12,
   "metadata": {},
   "outputs": [
    {
     "data": {
      "application/vnd.jupyter.widget-view+json": {
       "model_id": "6a5d0585ab2e432e8466ec1d9d18d0ed",
       "version_major": 2,
       "version_minor": 0
      },
      "text/plain": [
       "Figure(layout=FigureLayout(height='420px'))"
      ]
     },
     "metadata": {},
     "output_type": "display_data"
    }
   ],
   "source": [
    "# 11a. Add a marker layer for each city to the map.\n",
    "fig = gmaps.figure()\n",
    "marker_layer = gmaps.marker_layer(locations, info_box_content=hotel_info)\n",
    "fig.add_layer(marker_layer)\n",
    "# 11b. Display the figure\n",
    "fig"
   ]
  },
  {
   "cell_type": "code",
   "execution_count": null,
   "metadata": {},
   "outputs": [],
   "source": []
  }
 ],
 "metadata": {
  "kernelspec": {
   "display_name": "PythonData",
   "language": "python",
   "name": "pythondata"
  },
  "language_info": {
   "codemirror_mode": {
    "name": "ipython",
    "version": 3
   },
   "file_extension": ".py",
   "mimetype": "text/x-python",
   "name": "python",
   "nbconvert_exporter": "python",
   "pygments_lexer": "ipython3",
   "version": "3.7.7"
  },
  "latex_envs": {
   "LaTeX_envs_menu_present": true,
   "autoclose": false,
   "autocomplete": true,
   "bibliofile": "biblio.bib",
   "cite_by": "apalike",
   "current_citInitial": 1,
   "eqLabelWithNumbers": true,
   "eqNumInitial": 1,
   "hotkeys": {
    "equation": "Ctrl-E",
    "itemize": "Ctrl-I"
   },
   "labels_anchors": false,
   "latex_user_defs": false,
   "report_style_numbering": false,
   "user_envs_cfg": false
  }
 },
 "nbformat": 4,
 "nbformat_minor": 2
}
